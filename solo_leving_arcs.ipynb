{
 "cells": [
  {
   "cell_type": "code",
   "execution_count": 2,
   "id": "ca6473f6-fdcd-4def-97c6-7bd5fb50bd6d",
   "metadata": {},
   "outputs": [
    {
     "name": "stdout",
     "output_type": "stream",
     "text": [
      "CSV file saved at: solo_leveling_user_segmentation.csv\n"
     ]
    }
   ],
   "source": [
    "import pandas as pd\n",
    "\n",
    "# Create a dictionary with user segmentation and content focus\n",
    "data = {\n",
    "    \"Segment\": [\n",
    "        \"Teens (13-24 years)\", \n",
    "        \"Adults (25-35 years)\", \n",
    "        \"Older Adults (35+ years)\", \n",
    "        \"Returning Visitors\", \n",
    "        \"New Visitors\"\n",
    "    ],\n",
    "    \"Percentage\": [\n",
    "        45,  # Percentage of Teens\n",
    "        35,  # Percentage of Adults\n",
    "        20,  # Percentage of Older Adults\n",
    "        60,  # Percentage of Returning Visitors\n",
    "        40   # Percentage of New Visitors\n",
    "    ],\n",
    "    \"Content Focus\": [\n",
    "        \"Engaging visuals, social media interaction\",  # Content for Teens\n",
    "        \"In-depth arc analysis, character evolution\",  # Content for Adults\n",
    "        \"Classic fantasy comparisons, nostalgia\",      # Content for Older Adults\n",
    "        \"Arc updates, detailed breakdowns\",            # Content for Returning Visitors\n",
    "        \"Introductory guides, easy summaries\"          # Content for New Visitors\n",
    "    ]\n",
    "}\n",
    "# Create a DataFrame with the data\n",
    "df = pd.DataFrame(data)\n",
    "\n",
    "# Save the data as CSV\n",
    "csv_file = \"solo_leveling_user_segmentation.csv\"\n",
    "df.to_csv(csv_file, index=False)\n",
    "\n",
    "# Output the path to the CSV file\n",
    "print(f\"CSV file saved at: {csv_file}\")\n"
   ]
  },
  {
   "cell_type": "code",
   "execution_count": null,
   "id": "df63218a-5f99-4965-81b8-a109fb95b5a4",
   "metadata": {},
   "outputs": [],
   "source": []
  }
 ],
 "metadata": {
  "kernelspec": {
   "display_name": "Python 3 (ipykernel)",
   "language": "python",
   "name": "python3"
  },
  "language_info": {
   "codemirror_mode": {
    "name": "ipython",
    "version": 3
   },
   "file_extension": ".py",
   "mimetype": "text/x-python",
   "name": "python",
   "nbconvert_exporter": "python",
   "pygments_lexer": "ipython3",
   "version": "3.12.4"
  }
 },
 "nbformat": 4,
 "nbformat_minor": 5
}
